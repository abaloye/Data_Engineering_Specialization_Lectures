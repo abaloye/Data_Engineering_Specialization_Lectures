{
 "cells": [
  {
   "cell_type": "markdown",
   "id": "154a1cb0-49f9-4a73-b161-58e1cd2ca596",
   "metadata": {},
   "source": [
    "# My name is Tolani"
   ]
  },
  {
   "cell_type": "markdown",
   "id": "8da3377a-9960-4d1c-85e3-652762880e3f",
   "metadata": {},
   "source": [
    " My name is tolani. I am 18 years old jrnripfekd"
   ]
  },
  {
   "cell_type": "code",
   "execution_count": 1,
   "id": "4fa2d7b6-9510-4643-aba7-5991bc1cf407",
   "metadata": {},
   "outputs": [
    {
     "name": "stdout",
     "output_type": "stream",
     "text": [
      "96.25\n"
     ]
    }
   ],
   "source": [
    "hours=(35)     \n",
    "rate=(2.75)\n",
    "pay=(hours*rate)\n",
    "print(pay)"
   ]
  },
  {
   "cell_type": "code",
   "execution_count": 2,
   "id": "aa1b499a-58a8-43bd-a567-af2e1e4947de",
   "metadata": {},
   "outputs": [
    {
     "data": {
      "text/plain": [
       "35"
      ]
     },
     "execution_count": 2,
     "metadata": {},
     "output_type": "execute_result"
    }
   ],
   "source": [
    "hours"
   ]
  },
  {
   "cell_type": "code",
   "execution_count": 3,
   "id": "a0b50d7f-5897-468e-b27d-d5a4fea036fb",
   "metadata": {},
   "outputs": [
    {
     "data": {
      "text/plain": [
       "2.75"
      ]
     },
     "execution_count": 3,
     "metadata": {},
     "output_type": "execute_result"
    }
   ],
   "source": [
    "rate"
   ]
  },
  {
   "cell_type": "code",
   "execution_count": 4,
   "id": "0cc82689-821b-47c0-871b-477a20b29b09",
   "metadata": {},
   "outputs": [
    {
     "data": {
      "text/plain": [
       "96.25"
      ]
     },
     "execution_count": 4,
     "metadata": {},
     "output_type": "execute_result"
    }
   ],
   "source": [
    "pay"
   ]
  },
  {
   "cell_type": "code",
   "execution_count": 6,
   "id": "a322af8b-e9a9-4fbb-b7f9-53473bab4833",
   "metadata": {},
   "outputs": [
    {
     "data": {
      "text/plain": [
       "9"
      ]
     },
     "execution_count": 6,
     "metadata": {},
     "output_type": "execute_result"
    }
   ],
   "source": [
    "x=3\n",
    "y=6\n",
    "z=x+y\n",
    "z"
   ]
  },
  {
   "cell_type": "code",
   "execution_count": null,
   "id": "97701e29-4234-436a-ad64-18a5acb008ea",
   "metadata": {},
   "outputs": [],
   "source": []
  },
  {
   "cell_type": "code",
   "execution_count": null,
   "id": "dc4009c5-76cf-4f94-8c2d-78c98e94b9be",
   "metadata": {},
   "outputs": [],
   "source": []
  },
  {
   "cell_type": "code",
   "execution_count": null,
   "id": "2134452b-5d47-4f0d-9552-f2508ea07b64",
   "metadata": {},
   "outputs": [],
   "source": []
  },
  {
   "cell_type": "code",
   "execution_count": null,
   "id": "9c08ad4b-e86d-45ef-9ac8-5006c2e15789",
   "metadata": {},
   "outputs": [],
   "source": []
  },
  {
   "cell_type": "code",
   "execution_count": null,
   "id": "8283a724-9140-4ab1-8a39-f6165af68559",
   "metadata": {},
   "outputs": [],
   "source": []
  },
  {
   "cell_type": "code",
   "execution_count": null,
   "id": "f7a48256-9042-4faa-a26f-9c728f464a13",
   "metadata": {},
   "outputs": [],
   "source": []
  }
 ],
 "metadata": {
  "kernelspec": {
   "display_name": "Python 3 (ipykernel)",
   "language": "python",
   "name": "python3"
  },
  "language_info": {
   "codemirror_mode": {
    "name": "ipython",
    "version": 3
   },
   "file_extension": ".py",
   "mimetype": "text/x-python",
   "name": "python",
   "nbconvert_exporter": "python",
   "pygments_lexer": "ipython3",
   "version": "3.9.12"
  }
 },
 "nbformat": 4,
 "nbformat_minor": 5
}
